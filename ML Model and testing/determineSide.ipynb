{
 "cells": [
  {
   "cell_type": "code",
   "id": "initial_id",
   "metadata": {
    "collapsed": true,
    "ExecuteTime": {
     "end_time": "2025-06-26T15:00:58.292523Z",
     "start_time": "2025-06-26T15:00:58.208788Z"
    }
   },
   "source": [
    "import os\n",
    "import numpy as np\n",
    "\n",
    "script_dir = os.path.dirname(os.path.abspath(\"determineSide.ipynb\"))\n",
    "videos_dir = os.path.join(script_dir, '..', 'videos')\n",
    "# Normalize path just in case\n",
    "videos_dir = os.path.normpath(videos_dir)\n",
    "data_dir = os.path.join(script_dir, '..', 'training data')\n",
    "data = np.load(f\"{data_dir}\\\\deadlift files\\\\deadlift lift data.npz\")"
   ],
   "outputs": [],
   "execution_count": 1
  },
  {
   "metadata": {},
   "cell_type": "code",
   "outputs": [],
   "execution_count": null,
   "source": "",
   "id": "2584a0e7eb5008ff"
  }
 ],
 "metadata": {
  "kernelspec": {
   "display_name": "Python 3",
   "language": "python",
   "name": "python3"
  },
  "language_info": {
   "codemirror_mode": {
    "name": "ipython",
    "version": 2
   },
   "file_extension": ".py",
   "mimetype": "text/x-python",
   "name": "python",
   "nbconvert_exporter": "python",
   "pygments_lexer": "ipython2",
   "version": "2.7.6"
  }
 },
 "nbformat": 4,
 "nbformat_minor": 5
}
