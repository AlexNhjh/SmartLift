{
 "cells": [
  {
   "metadata": {
    "ExecuteTime": {
     "end_time": "2025-07-10T15:00:30.465599Z",
     "start_time": "2025-07-10T15:00:28.829869Z"
    }
   },
   "cell_type": "code",
   "source": [
    "# Load data from training data directory, convert from NPZ to tensor, and save to a dict\n",
    "# containing lift name and tensor data\n",
    "\n",
    "import os\n",
    "import torch\n",
    "import numpy as np\n",
    "import functions\n",
    "\n",
    "DEADLIFT_TENSORS = {}\n",
    "BENCH_TENSORS = {}\n",
    "SQUAT_TENSORS = {}\n",
    "\n",
    "# Setup paths\n",
    "script_dir = os.path.dirname(os.path.abspath(\"model_train.ipynb\"))\n",
    "data_dir = os.path.normpath(os.path.join(script_dir, '..', 'training data'))\n",
    "\n",
    "# Step 1: Get all subfolder names in data_dir\n",
    "subfolders = []\n",
    "for f in os.listdir(data_dir):\n",
    "    if os.path.isdir(os.path.join(data_dir, f)):\n",
    "        subfolders.append(f)\n",
    "\n",
    "\n",
    "#  Squat Files\n",
    "#  Bench Files\n",
    "#  Deadlift Files\n",
    "for subfolder in subfolders:\n",
    "    subfolder_path = os.path.join(data_dir, subfolder)\n",
    "    files = []\n",
    "\n",
    "    # Isolate individual lift files in each of the subfolders and add them to files list\n",
    "    for f in os.listdir(subfolder_path):\n",
    "        if os.path.isfile(os.path.join(subfolder_path, f)):\n",
    "            files.append(f)\n",
    "\n",
    "    # Iterate through files in each subfolder\n",
    "    for file in files:\n",
    "        data = np.load(os.path.join(subfolder_path, file))\n",
    "\n",
    "        # convert each landmark/angle to a tensor and add it to the tensor dict (which is\n",
    "        # specific to the current lift only\n",
    "        tensor_dict = {}\n",
    "        for key in data.files:\n",
    "            lift_name_without_video_type = \" \".join(key.split('.')[:1] + key.split(\"_\")[-2:])\n",
    "            tensor_dict[lift_name_without_video_type] = torch.tensor(data[key])\n",
    "        if file.split('.')[0].startswith('bench'):\n",
    "            BENCH_TENSORS[file.split('.')[0]] = tensor_dict\n",
    "        if file.split('.')[0].startswith('deadlift'):\n",
    "            DEADLIFT_TENSORS[file.split('.')[0]] = tensor_dict\n",
    "        if file.split('.')[0].startswith('squat'):\n",
    "            SQUAT_TENSORS[file.split('.')[0]] = tensor_dict"
   ],
   "id": "initial_id",
   "outputs": [],
   "execution_count": 1
  },
  {
   "metadata": {
    "ExecuteTime": {
     "end_time": "2025-07-10T15:00:30.704898Z",
     "start_time": "2025-07-10T15:00:30.697382Z"
    }
   },
   "cell_type": "code",
   "source": "BENCH_TENSORS['bench 2 good lift data'].keys()",
   "id": "d190c182d8d56d26",
   "outputs": [
    {
     "data": {
      "text/plain": [
       "dict_keys(['bench 2 good landmark 0', 'bench 2 good landmark 1', 'bench 2 good landmark 2', 'bench 2 good landmark 3', 'bench 2 good landmark 4', 'bench 2 good landmark 5', 'bench 2 good landmark 6', 'bench 2 good landmark 7', 'bench 2 good landmark 8', 'bench 2 good landmark 9', 'bench 2 good landmark 10', 'bench 2 good landmark 11', 'bench 2 good landmark 12', 'bench 2 good landmark 13', 'bench 2 good landmark 14', 'bench 2 good landmark 15', 'bench 2 good landmark 16', 'bench 2 good landmark 17', 'bench 2 good landmark 18', 'bench 2 good landmark 19', 'bench 2 good landmark 20', 'bench 2 good landmark 21', 'bench 2 good landmark 22', 'bench 2 good landmark 23', 'bench 2 good landmark 24', 'bench 2 good landmark 25', 'bench 2 good landmark 26', 'bench 2 good landmark 27', 'bench 2 good landmark 28', 'bench 2 good landmark 29', 'bench 2 good landmark 30', 'bench 2 good landmark 31', 'bench 2 good landmark 32', 'bench 2 good left elbow', 'bench 2 good right elbow', 'bench 2 good left knee', 'bench 2 good right knee', 'bench 2 good right hip', 'bench 2 good left hip', 'bench 2 good left shoulder', 'bench 2 good right shoulder'])"
      ]
     },
     "execution_count": 2,
     "metadata": {},
     "output_type": "execute_result"
    }
   ],
   "execution_count": 2
  },
  {
   "metadata": {
    "ExecuteTime": {
     "end_time": "2025-07-10T15:00:30.735993Z",
     "start_time": "2025-07-10T15:00:30.728165Z"
    }
   },
   "cell_type": "code",
   "source": [
    "for k,v in BENCH_TENSORS.items():\n",
    "    print(k)\n",
    "    for key in v.keys():\n",
    "\n",
    "        try:\n",
    "            print(f\"---{key} contains a {type(v[key])} containing Z coords for {functions.landmark_indeces_to_labels[int(key.split('_')[-1])]} that contains {len(v[key])} points\")\n",
    "        except:\n",
    "            print(f\"---{key} contains a {type(v[key])} containing joint angles for {' '.join(key.split('_')[-2:])} that contains ({len(v[key])} angles)\")"
   ],
   "id": "133c40529e1f03e9",
   "outputs": [
    {
     "name": "stdout",
     "output_type": "stream",
     "text": [
      "bench 2 good lift data\n",
      "---bench 2 good landmark 0 contains a <class 'torch.Tensor'> containing joint angles for bench 2 good landmark 0 that contains (3 angles)\n",
      "---bench 2 good landmark 1 contains a <class 'torch.Tensor'> containing joint angles for bench 2 good landmark 1 that contains (3 angles)\n",
      "---bench 2 good landmark 2 contains a <class 'torch.Tensor'> containing joint angles for bench 2 good landmark 2 that contains (3 angles)\n",
      "---bench 2 good landmark 3 contains a <class 'torch.Tensor'> containing joint angles for bench 2 good landmark 3 that contains (3 angles)\n",
      "---bench 2 good landmark 4 contains a <class 'torch.Tensor'> containing joint angles for bench 2 good landmark 4 that contains (3 angles)\n",
      "---bench 2 good landmark 5 contains a <class 'torch.Tensor'> containing joint angles for bench 2 good landmark 5 that contains (3 angles)\n",
      "---bench 2 good landmark 6 contains a <class 'torch.Tensor'> containing joint angles for bench 2 good landmark 6 that contains (3 angles)\n",
      "---bench 2 good landmark 7 contains a <class 'torch.Tensor'> containing joint angles for bench 2 good landmark 7 that contains (3 angles)\n",
      "---bench 2 good landmark 8 contains a <class 'torch.Tensor'> containing joint angles for bench 2 good landmark 8 that contains (3 angles)\n",
      "---bench 2 good landmark 9 contains a <class 'torch.Tensor'> containing joint angles for bench 2 good landmark 9 that contains (3 angles)\n",
      "---bench 2 good landmark 10 contains a <class 'torch.Tensor'> containing joint angles for bench 2 good landmark 10 that contains (3 angles)\n",
      "---bench 2 good landmark 11 contains a <class 'torch.Tensor'> containing joint angles for bench 2 good landmark 11 that contains (3 angles)\n",
      "---bench 2 good landmark 12 contains a <class 'torch.Tensor'> containing joint angles for bench 2 good landmark 12 that contains (3 angles)\n",
      "---bench 2 good landmark 13 contains a <class 'torch.Tensor'> containing joint angles for bench 2 good landmark 13 that contains (3 angles)\n",
      "---bench 2 good landmark 14 contains a <class 'torch.Tensor'> containing joint angles for bench 2 good landmark 14 that contains (3 angles)\n",
      "---bench 2 good landmark 15 contains a <class 'torch.Tensor'> containing joint angles for bench 2 good landmark 15 that contains (3 angles)\n",
      "---bench 2 good landmark 16 contains a <class 'torch.Tensor'> containing joint angles for bench 2 good landmark 16 that contains (3 angles)\n",
      "---bench 2 good landmark 17 contains a <class 'torch.Tensor'> containing joint angles for bench 2 good landmark 17 that contains (3 angles)\n",
      "---bench 2 good landmark 18 contains a <class 'torch.Tensor'> containing joint angles for bench 2 good landmark 18 that contains (3 angles)\n",
      "---bench 2 good landmark 19 contains a <class 'torch.Tensor'> containing joint angles for bench 2 good landmark 19 that contains (3 angles)\n",
      "---bench 2 good landmark 20 contains a <class 'torch.Tensor'> containing joint angles for bench 2 good landmark 20 that contains (3 angles)\n",
      "---bench 2 good landmark 21 contains a <class 'torch.Tensor'> containing joint angles for bench 2 good landmark 21 that contains (3 angles)\n",
      "---bench 2 good landmark 22 contains a <class 'torch.Tensor'> containing joint angles for bench 2 good landmark 22 that contains (3 angles)\n",
      "---bench 2 good landmark 23 contains a <class 'torch.Tensor'> containing joint angles for bench 2 good landmark 23 that contains (3 angles)\n",
      "---bench 2 good landmark 24 contains a <class 'torch.Tensor'> containing joint angles for bench 2 good landmark 24 that contains (3 angles)\n",
      "---bench 2 good landmark 25 contains a <class 'torch.Tensor'> containing joint angles for bench 2 good landmark 25 that contains (3 angles)\n",
      "---bench 2 good landmark 26 contains a <class 'torch.Tensor'> containing joint angles for bench 2 good landmark 26 that contains (3 angles)\n",
      "---bench 2 good landmark 27 contains a <class 'torch.Tensor'> containing joint angles for bench 2 good landmark 27 that contains (3 angles)\n",
      "---bench 2 good landmark 28 contains a <class 'torch.Tensor'> containing joint angles for bench 2 good landmark 28 that contains (3 angles)\n",
      "---bench 2 good landmark 29 contains a <class 'torch.Tensor'> containing joint angles for bench 2 good landmark 29 that contains (3 angles)\n",
      "---bench 2 good landmark 30 contains a <class 'torch.Tensor'> containing joint angles for bench 2 good landmark 30 that contains (3 angles)\n",
      "---bench 2 good landmark 31 contains a <class 'torch.Tensor'> containing joint angles for bench 2 good landmark 31 that contains (3 angles)\n",
      "---bench 2 good landmark 32 contains a <class 'torch.Tensor'> containing joint angles for bench 2 good landmark 32 that contains (3 angles)\n",
      "---bench 2 good left elbow contains a <class 'torch.Tensor'> containing joint angles for bench 2 good left elbow that contains (27 angles)\n",
      "---bench 2 good right elbow contains a <class 'torch.Tensor'> containing joint angles for bench 2 good right elbow that contains (27 angles)\n",
      "---bench 2 good left knee contains a <class 'torch.Tensor'> containing joint angles for bench 2 good left knee that contains (27 angles)\n",
      "---bench 2 good right knee contains a <class 'torch.Tensor'> containing joint angles for bench 2 good right knee that contains (27 angles)\n",
      "---bench 2 good right hip contains a <class 'torch.Tensor'> containing joint angles for bench 2 good right hip that contains (27 angles)\n",
      "---bench 2 good left hip contains a <class 'torch.Tensor'> containing joint angles for bench 2 good left hip that contains (27 angles)\n",
      "---bench 2 good left shoulder contains a <class 'torch.Tensor'> containing joint angles for bench 2 good left shoulder that contains (27 angles)\n",
      "---bench 2 good right shoulder contains a <class 'torch.Tensor'> containing joint angles for bench 2 good right shoulder that contains (27 angles)\n",
      "bench 3 good lift data\n",
      "---bench 3 good landmark 0 contains a <class 'torch.Tensor'> containing joint angles for bench 3 good landmark 0 that contains (3 angles)\n",
      "---bench 3 good landmark 1 contains a <class 'torch.Tensor'> containing joint angles for bench 3 good landmark 1 that contains (3 angles)\n",
      "---bench 3 good landmark 2 contains a <class 'torch.Tensor'> containing joint angles for bench 3 good landmark 2 that contains (3 angles)\n",
      "---bench 3 good landmark 3 contains a <class 'torch.Tensor'> containing joint angles for bench 3 good landmark 3 that contains (3 angles)\n",
      "---bench 3 good landmark 4 contains a <class 'torch.Tensor'> containing joint angles for bench 3 good landmark 4 that contains (3 angles)\n",
      "---bench 3 good landmark 5 contains a <class 'torch.Tensor'> containing joint angles for bench 3 good landmark 5 that contains (3 angles)\n",
      "---bench 3 good landmark 6 contains a <class 'torch.Tensor'> containing joint angles for bench 3 good landmark 6 that contains (3 angles)\n",
      "---bench 3 good landmark 7 contains a <class 'torch.Tensor'> containing joint angles for bench 3 good landmark 7 that contains (3 angles)\n",
      "---bench 3 good landmark 8 contains a <class 'torch.Tensor'> containing joint angles for bench 3 good landmark 8 that contains (3 angles)\n",
      "---bench 3 good landmark 9 contains a <class 'torch.Tensor'> containing joint angles for bench 3 good landmark 9 that contains (3 angles)\n",
      "---bench 3 good landmark 10 contains a <class 'torch.Tensor'> containing joint angles for bench 3 good landmark 10 that contains (3 angles)\n",
      "---bench 3 good landmark 11 contains a <class 'torch.Tensor'> containing joint angles for bench 3 good landmark 11 that contains (3 angles)\n",
      "---bench 3 good landmark 12 contains a <class 'torch.Tensor'> containing joint angles for bench 3 good landmark 12 that contains (3 angles)\n",
      "---bench 3 good landmark 13 contains a <class 'torch.Tensor'> containing joint angles for bench 3 good landmark 13 that contains (3 angles)\n",
      "---bench 3 good landmark 14 contains a <class 'torch.Tensor'> containing joint angles for bench 3 good landmark 14 that contains (3 angles)\n",
      "---bench 3 good landmark 15 contains a <class 'torch.Tensor'> containing joint angles for bench 3 good landmark 15 that contains (3 angles)\n",
      "---bench 3 good landmark 16 contains a <class 'torch.Tensor'> containing joint angles for bench 3 good landmark 16 that contains (3 angles)\n",
      "---bench 3 good landmark 17 contains a <class 'torch.Tensor'> containing joint angles for bench 3 good landmark 17 that contains (3 angles)\n",
      "---bench 3 good landmark 18 contains a <class 'torch.Tensor'> containing joint angles for bench 3 good landmark 18 that contains (3 angles)\n",
      "---bench 3 good landmark 19 contains a <class 'torch.Tensor'> containing joint angles for bench 3 good landmark 19 that contains (3 angles)\n",
      "---bench 3 good landmark 20 contains a <class 'torch.Tensor'> containing joint angles for bench 3 good landmark 20 that contains (3 angles)\n",
      "---bench 3 good landmark 21 contains a <class 'torch.Tensor'> containing joint angles for bench 3 good landmark 21 that contains (3 angles)\n",
      "---bench 3 good landmark 22 contains a <class 'torch.Tensor'> containing joint angles for bench 3 good landmark 22 that contains (3 angles)\n",
      "---bench 3 good landmark 23 contains a <class 'torch.Tensor'> containing joint angles for bench 3 good landmark 23 that contains (3 angles)\n",
      "---bench 3 good landmark 24 contains a <class 'torch.Tensor'> containing joint angles for bench 3 good landmark 24 that contains (3 angles)\n",
      "---bench 3 good landmark 25 contains a <class 'torch.Tensor'> containing joint angles for bench 3 good landmark 25 that contains (3 angles)\n",
      "---bench 3 good landmark 26 contains a <class 'torch.Tensor'> containing joint angles for bench 3 good landmark 26 that contains (3 angles)\n",
      "---bench 3 good landmark 27 contains a <class 'torch.Tensor'> containing joint angles for bench 3 good landmark 27 that contains (3 angles)\n",
      "---bench 3 good landmark 28 contains a <class 'torch.Tensor'> containing joint angles for bench 3 good landmark 28 that contains (3 angles)\n",
      "---bench 3 good landmark 29 contains a <class 'torch.Tensor'> containing joint angles for bench 3 good landmark 29 that contains (3 angles)\n",
      "---bench 3 good landmark 30 contains a <class 'torch.Tensor'> containing joint angles for bench 3 good landmark 30 that contains (3 angles)\n",
      "---bench 3 good landmark 31 contains a <class 'torch.Tensor'> containing joint angles for bench 3 good landmark 31 that contains (3 angles)\n",
      "---bench 3 good landmark 32 contains a <class 'torch.Tensor'> containing joint angles for bench 3 good landmark 32 that contains (3 angles)\n",
      "---bench 3 good left elbow contains a <class 'torch.Tensor'> containing joint angles for bench 3 good left elbow that contains (1130 angles)\n",
      "---bench 3 good right elbow contains a <class 'torch.Tensor'> containing joint angles for bench 3 good right elbow that contains (1130 angles)\n",
      "---bench 3 good left knee contains a <class 'torch.Tensor'> containing joint angles for bench 3 good left knee that contains (1130 angles)\n",
      "---bench 3 good right knee contains a <class 'torch.Tensor'> containing joint angles for bench 3 good right knee that contains (1130 angles)\n",
      "---bench 3 good right hip contains a <class 'torch.Tensor'> containing joint angles for bench 3 good right hip that contains (1130 angles)\n",
      "---bench 3 good left hip contains a <class 'torch.Tensor'> containing joint angles for bench 3 good left hip that contains (1130 angles)\n",
      "---bench 3 good left shoulder contains a <class 'torch.Tensor'> containing joint angles for bench 3 good left shoulder that contains (1130 angles)\n",
      "---bench 3 good right shoulder contains a <class 'torch.Tensor'> containing joint angles for bench 3 good right shoulder that contains (1130 angles)\n",
      "bench 4 good lift data\n",
      "---bench 4 good landmark 0 contains a <class 'torch.Tensor'> containing joint angles for bench 4 good landmark 0 that contains (3 angles)\n",
      "---bench 4 good landmark 1 contains a <class 'torch.Tensor'> containing joint angles for bench 4 good landmark 1 that contains (3 angles)\n",
      "---bench 4 good landmark 2 contains a <class 'torch.Tensor'> containing joint angles for bench 4 good landmark 2 that contains (3 angles)\n",
      "---bench 4 good landmark 3 contains a <class 'torch.Tensor'> containing joint angles for bench 4 good landmark 3 that contains (3 angles)\n",
      "---bench 4 good landmark 4 contains a <class 'torch.Tensor'> containing joint angles for bench 4 good landmark 4 that contains (3 angles)\n",
      "---bench 4 good landmark 5 contains a <class 'torch.Tensor'> containing joint angles for bench 4 good landmark 5 that contains (3 angles)\n",
      "---bench 4 good landmark 6 contains a <class 'torch.Tensor'> containing joint angles for bench 4 good landmark 6 that contains (3 angles)\n",
      "---bench 4 good landmark 7 contains a <class 'torch.Tensor'> containing joint angles for bench 4 good landmark 7 that contains (3 angles)\n",
      "---bench 4 good landmark 8 contains a <class 'torch.Tensor'> containing joint angles for bench 4 good landmark 8 that contains (3 angles)\n",
      "---bench 4 good landmark 9 contains a <class 'torch.Tensor'> containing joint angles for bench 4 good landmark 9 that contains (3 angles)\n",
      "---bench 4 good landmark 10 contains a <class 'torch.Tensor'> containing joint angles for bench 4 good landmark 10 that contains (3 angles)\n",
      "---bench 4 good landmark 11 contains a <class 'torch.Tensor'> containing joint angles for bench 4 good landmark 11 that contains (3 angles)\n",
      "---bench 4 good landmark 12 contains a <class 'torch.Tensor'> containing joint angles for bench 4 good landmark 12 that contains (3 angles)\n",
      "---bench 4 good landmark 13 contains a <class 'torch.Tensor'> containing joint angles for bench 4 good landmark 13 that contains (3 angles)\n",
      "---bench 4 good landmark 14 contains a <class 'torch.Tensor'> containing joint angles for bench 4 good landmark 14 that contains (3 angles)\n",
      "---bench 4 good landmark 15 contains a <class 'torch.Tensor'> containing joint angles for bench 4 good landmark 15 that contains (3 angles)\n",
      "---bench 4 good landmark 16 contains a <class 'torch.Tensor'> containing joint angles for bench 4 good landmark 16 that contains (3 angles)\n",
      "---bench 4 good landmark 17 contains a <class 'torch.Tensor'> containing joint angles for bench 4 good landmark 17 that contains (3 angles)\n",
      "---bench 4 good landmark 18 contains a <class 'torch.Tensor'> containing joint angles for bench 4 good landmark 18 that contains (3 angles)\n",
      "---bench 4 good landmark 19 contains a <class 'torch.Tensor'> containing joint angles for bench 4 good landmark 19 that contains (3 angles)\n",
      "---bench 4 good landmark 20 contains a <class 'torch.Tensor'> containing joint angles for bench 4 good landmark 20 that contains (3 angles)\n",
      "---bench 4 good landmark 21 contains a <class 'torch.Tensor'> containing joint angles for bench 4 good landmark 21 that contains (3 angles)\n",
      "---bench 4 good landmark 22 contains a <class 'torch.Tensor'> containing joint angles for bench 4 good landmark 22 that contains (3 angles)\n",
      "---bench 4 good landmark 23 contains a <class 'torch.Tensor'> containing joint angles for bench 4 good landmark 23 that contains (3 angles)\n",
      "---bench 4 good landmark 24 contains a <class 'torch.Tensor'> containing joint angles for bench 4 good landmark 24 that contains (3 angles)\n",
      "---bench 4 good landmark 25 contains a <class 'torch.Tensor'> containing joint angles for bench 4 good landmark 25 that contains (3 angles)\n",
      "---bench 4 good landmark 26 contains a <class 'torch.Tensor'> containing joint angles for bench 4 good landmark 26 that contains (3 angles)\n",
      "---bench 4 good landmark 27 contains a <class 'torch.Tensor'> containing joint angles for bench 4 good landmark 27 that contains (3 angles)\n",
      "---bench 4 good landmark 28 contains a <class 'torch.Tensor'> containing joint angles for bench 4 good landmark 28 that contains (3 angles)\n",
      "---bench 4 good landmark 29 contains a <class 'torch.Tensor'> containing joint angles for bench 4 good landmark 29 that contains (3 angles)\n",
      "---bench 4 good landmark 30 contains a <class 'torch.Tensor'> containing joint angles for bench 4 good landmark 30 that contains (3 angles)\n",
      "---bench 4 good landmark 31 contains a <class 'torch.Tensor'> containing joint angles for bench 4 good landmark 31 that contains (3 angles)\n",
      "---bench 4 good landmark 32 contains a <class 'torch.Tensor'> containing joint angles for bench 4 good landmark 32 that contains (3 angles)\n",
      "---bench 4 good left elbow contains a <class 'torch.Tensor'> containing joint angles for bench 4 good left elbow that contains (1578 angles)\n",
      "---bench 4 good right elbow contains a <class 'torch.Tensor'> containing joint angles for bench 4 good right elbow that contains (1578 angles)\n",
      "---bench 4 good left knee contains a <class 'torch.Tensor'> containing joint angles for bench 4 good left knee that contains (1578 angles)\n",
      "---bench 4 good right knee contains a <class 'torch.Tensor'> containing joint angles for bench 4 good right knee that contains (1578 angles)\n",
      "---bench 4 good right hip contains a <class 'torch.Tensor'> containing joint angles for bench 4 good right hip that contains (1578 angles)\n",
      "---bench 4 good left hip contains a <class 'torch.Tensor'> containing joint angles for bench 4 good left hip that contains (1578 angles)\n",
      "---bench 4 good left shoulder contains a <class 'torch.Tensor'> containing joint angles for bench 4 good left shoulder that contains (1578 angles)\n",
      "---bench 4 good right shoulder contains a <class 'torch.Tensor'> containing joint angles for bench 4 good right shoulder that contains (1578 angles)\n",
      "bench 5 good lift data\n",
      "---bench 5 good landmark 0 contains a <class 'torch.Tensor'> containing joint angles for bench 5 good landmark 0 that contains (3 angles)\n",
      "---bench 5 good landmark 1 contains a <class 'torch.Tensor'> containing joint angles for bench 5 good landmark 1 that contains (3 angles)\n",
      "---bench 5 good landmark 2 contains a <class 'torch.Tensor'> containing joint angles for bench 5 good landmark 2 that contains (3 angles)\n",
      "---bench 5 good landmark 3 contains a <class 'torch.Tensor'> containing joint angles for bench 5 good landmark 3 that contains (3 angles)\n",
      "---bench 5 good landmark 4 contains a <class 'torch.Tensor'> containing joint angles for bench 5 good landmark 4 that contains (3 angles)\n",
      "---bench 5 good landmark 5 contains a <class 'torch.Tensor'> containing joint angles for bench 5 good landmark 5 that contains (3 angles)\n",
      "---bench 5 good landmark 6 contains a <class 'torch.Tensor'> containing joint angles for bench 5 good landmark 6 that contains (3 angles)\n",
      "---bench 5 good landmark 7 contains a <class 'torch.Tensor'> containing joint angles for bench 5 good landmark 7 that contains (3 angles)\n",
      "---bench 5 good landmark 8 contains a <class 'torch.Tensor'> containing joint angles for bench 5 good landmark 8 that contains (3 angles)\n",
      "---bench 5 good landmark 9 contains a <class 'torch.Tensor'> containing joint angles for bench 5 good landmark 9 that contains (3 angles)\n",
      "---bench 5 good landmark 10 contains a <class 'torch.Tensor'> containing joint angles for bench 5 good landmark 10 that contains (3 angles)\n",
      "---bench 5 good landmark 11 contains a <class 'torch.Tensor'> containing joint angles for bench 5 good landmark 11 that contains (3 angles)\n",
      "---bench 5 good landmark 12 contains a <class 'torch.Tensor'> containing joint angles for bench 5 good landmark 12 that contains (3 angles)\n",
      "---bench 5 good landmark 13 contains a <class 'torch.Tensor'> containing joint angles for bench 5 good landmark 13 that contains (3 angles)\n",
      "---bench 5 good landmark 14 contains a <class 'torch.Tensor'> containing joint angles for bench 5 good landmark 14 that contains (3 angles)\n",
      "---bench 5 good landmark 15 contains a <class 'torch.Tensor'> containing joint angles for bench 5 good landmark 15 that contains (3 angles)\n",
      "---bench 5 good landmark 16 contains a <class 'torch.Tensor'> containing joint angles for bench 5 good landmark 16 that contains (3 angles)\n",
      "---bench 5 good landmark 17 contains a <class 'torch.Tensor'> containing joint angles for bench 5 good landmark 17 that contains (3 angles)\n",
      "---bench 5 good landmark 18 contains a <class 'torch.Tensor'> containing joint angles for bench 5 good landmark 18 that contains (3 angles)\n",
      "---bench 5 good landmark 19 contains a <class 'torch.Tensor'> containing joint angles for bench 5 good landmark 19 that contains (3 angles)\n",
      "---bench 5 good landmark 20 contains a <class 'torch.Tensor'> containing joint angles for bench 5 good landmark 20 that contains (3 angles)\n",
      "---bench 5 good landmark 21 contains a <class 'torch.Tensor'> containing joint angles for bench 5 good landmark 21 that contains (3 angles)\n",
      "---bench 5 good landmark 22 contains a <class 'torch.Tensor'> containing joint angles for bench 5 good landmark 22 that contains (3 angles)\n",
      "---bench 5 good landmark 23 contains a <class 'torch.Tensor'> containing joint angles for bench 5 good landmark 23 that contains (3 angles)\n",
      "---bench 5 good landmark 24 contains a <class 'torch.Tensor'> containing joint angles for bench 5 good landmark 24 that contains (3 angles)\n",
      "---bench 5 good landmark 25 contains a <class 'torch.Tensor'> containing joint angles for bench 5 good landmark 25 that contains (3 angles)\n",
      "---bench 5 good landmark 26 contains a <class 'torch.Tensor'> containing joint angles for bench 5 good landmark 26 that contains (3 angles)\n",
      "---bench 5 good landmark 27 contains a <class 'torch.Tensor'> containing joint angles for bench 5 good landmark 27 that contains (3 angles)\n",
      "---bench 5 good landmark 28 contains a <class 'torch.Tensor'> containing joint angles for bench 5 good landmark 28 that contains (3 angles)\n",
      "---bench 5 good landmark 29 contains a <class 'torch.Tensor'> containing joint angles for bench 5 good landmark 29 that contains (3 angles)\n",
      "---bench 5 good landmark 30 contains a <class 'torch.Tensor'> containing joint angles for bench 5 good landmark 30 that contains (3 angles)\n",
      "---bench 5 good landmark 31 contains a <class 'torch.Tensor'> containing joint angles for bench 5 good landmark 31 that contains (3 angles)\n",
      "---bench 5 good landmark 32 contains a <class 'torch.Tensor'> containing joint angles for bench 5 good landmark 32 that contains (3 angles)\n",
      "---bench 5 good left elbow contains a <class 'torch.Tensor'> containing joint angles for bench 5 good left elbow that contains (1530 angles)\n",
      "---bench 5 good right elbow contains a <class 'torch.Tensor'> containing joint angles for bench 5 good right elbow that contains (1530 angles)\n",
      "---bench 5 good left knee contains a <class 'torch.Tensor'> containing joint angles for bench 5 good left knee that contains (1530 angles)\n",
      "---bench 5 good right knee contains a <class 'torch.Tensor'> containing joint angles for bench 5 good right knee that contains (1530 angles)\n",
      "---bench 5 good right hip contains a <class 'torch.Tensor'> containing joint angles for bench 5 good right hip that contains (1530 angles)\n",
      "---bench 5 good left hip contains a <class 'torch.Tensor'> containing joint angles for bench 5 good left hip that contains (1530 angles)\n",
      "---bench 5 good left shoulder contains a <class 'torch.Tensor'> containing joint angles for bench 5 good left shoulder that contains (1530 angles)\n",
      "---bench 5 good right shoulder contains a <class 'torch.Tensor'> containing joint angles for bench 5 good right shoulder that contains (1530 angles)\n"
     ]
    }
   ],
   "execution_count": 3
  },
  {
   "metadata": {
    "ExecuteTime": {
     "end_time": "2025-07-10T15:00:30.819231Z",
     "start_time": "2025-07-10T15:00:30.815888Z"
    }
   },
   "cell_type": "code",
   "source": [
    "# for k, v in BENCH_TENSORS.items():\n",
    "#     for lift, coordinate in v.items():\n",
    "#         print(lift, \"coords\",coordinate[2])\n",
    "\n",
    "for key, value in DEADLIFT_TENSORS.items():\n",
    "    print(key)\n",
    "    # for landmark, coordinate in BENCH_TENSORS[key].items():\n",
    "    #     return (landmark, coordinate[2])"
   ],
   "id": "153e668682ac77c9",
   "outputs": [
    {
     "name": "stdout",
     "output_type": "stream",
     "text": [
      "deadlift 1 good lift data\n",
      "deadlift 2 good_rotate_15 lift data\n",
      "deadlift 3 bad lift data\n",
      "deadlift 4 bad lift data\n"
     ]
    }
   ],
   "execution_count": 4
  },
  {
   "metadata": {
    "ExecuteTime": {
     "end_time": "2025-07-10T15:00:30.847529Z",
     "start_time": "2025-07-10T15:00:30.839374Z"
    }
   },
   "cell_type": "code",
   "source": [
    "# Isolate z coordinates of individual lift for each lift category\n",
    "# It is important to have them isolated as the model will have to train each lift individually\n",
    "# LOGIC WILL BE IMPROVED LATER TO MAKE IT MORE DYNAMIC\n",
    "#\n",
    "# Stores as a dict of dicts\n",
    "\n",
    "deadlift_z_coordinates = {}\n",
    "for k,v in DEADLIFT_TENSORS.items():\n",
    "    for lift, landmarks in v.items():\n",
    "        if len(landmarks) == 3:\n",
    "            lift_z_coords = f\"{' '.join(lift.split(' ')[:3])} {functions.landmark_indeces_to_labels[int(' '.join(lift.split(' ')[-1:]))]} z coordinates\"\n",
    "            deadlift_z_coordinates[lift_z_coords] = landmarks[2]\n",
    "\n",
    "\n",
    "bench_z_coordinates = {}\n",
    "for k,v in BENCH_TENSORS.items():\n",
    "    for lift, landmarks in v.items():\n",
    "        if len(landmarks) == 3:\n",
    "            lift_z_coords = f\"{' '.join(lift.split(' ')[:3])} {functions.landmark_indeces_to_labels[int(' '.join(lift.split(' ')[-1:]))]} z coordinates\"\n",
    "            bench_z_coordinates[lift_z_coords] = landmarks[2]\n",
    "\n",
    "squat_z_coordinates = {}\n",
    "for k,v in SQUAT_TENSORS.items():\n",
    "    for lift, landmarks in v.items():\n",
    "        if len(landmarks) == 3:\n",
    "            lift_z_coords = f\"{' '.join(lift.split(' ')[:3])} {functions.landmark_indeces_to_labels[int(' '.join(lift.split(' ')[-1:]))]} z coordinates\"\n",
    "            squat_z_coordinates[lift_z_coords] = landmarks[2]\n",
    "# Example of how to isolate one landmark in a single lift\n",
    "print(squat_z_coordinates.keys())\n"
   ],
   "id": "1b3ab06323f3caa4",
   "outputs": [
    {
     "name": "stdout",
     "output_type": "stream",
     "text": [
      "dict_keys(['squat 1 good nose z coordinates', 'squat 1 good left eye inner z coordinates', 'squat 1 good left eye z coordinates', 'squat 1 good left eye outer z coordinates', 'squat 1 good right eye inner z coordinates', 'squat 1 good right eye z coordinates', 'squat 1 good right eye outer z coordinates', 'squat 1 good left ear z coordinates', 'squat 1 good right ear z coordinates', 'squat 1 good mouth left z coordinates', 'squat 1 good mouth right z coordinates', 'squat 1 good left shoulder z coordinates', 'squat 1 good right shoulder z coordinates', 'squat 1 good left elbow z coordinates', 'squat 1 good right elbow z coordinates', 'squat 1 good left wrist z coordinates', 'squat 1 good right wrist z coordinates', 'squat 1 good left pinky z coordinates', 'squat 1 good right pinky z coordinates', 'squat 1 good left index z coordinates', 'squat 1 good right index z coordinates', 'squat 1 good left thumb z coordinates', 'squat 1 good right thumb z coordinates', 'squat 1 good left hip z coordinates', 'squat 1 good right hip z coordinates', 'squat 1 good left knee z coordinates', 'squat 1 good right knee z coordinates', 'squat 1 good left ankle z coordinates', 'squat 1 good right ankle z coordinates', 'squat 1 good left heel z coordinates', 'squat 1 good right heel z coordinates', 'squat 1 good left foot index z coordinates', 'squat 1 good right foot index z coordinates'])\n"
     ]
    }
   ],
   "execution_count": 5
  },
  {
   "metadata": {
    "ExecuteTime": {
     "end_time": "2025-07-10T15:02:29.537916Z",
     "start_time": "2025-07-10T15:02:29.533108Z"
    }
   },
   "cell_type": "code",
   "source": [
    "# Calling Function to determine which side of the lift we are viewing from\n",
    "side = functions.determineSide('deadlift 4 bad', deadlift_z_coordinates)\n",
    "side"
   ],
   "id": "bccf5197e1b539c",
   "outputs": [
    {
     "name": "stdout",
     "output_type": "stream",
     "text": [
      "The lower the z coordinate, the closer to the camera\n",
      "Mean of the mean left side landmark z distance: 0.12165702829824966\n",
      "Mean of the mean right side landmark z distance: -0.13286598812553013\n"
     ]
    },
    {
     "data": {
      "text/plain": [
       "'viewing from right'"
      ]
     },
     "execution_count": 10,
     "metadata": {},
     "output_type": "execute_result"
    }
   ],
   "execution_count": 10
  },
  {
   "metadata": {
    "ExecuteTime": {
     "end_time": "2025-07-10T15:25:27.288368Z",
     "start_time": "2025-07-10T15:25:27.282832Z"
    }
   },
   "cell_type": "code",
   "source": [
    "from torch.utils.data import Dataset\n",
    "import numpy as np\n",
    "\n",
    "class DeadliftDataset(torch.utils.data.Dataset):\n",
    "    def __init__(self, lift_tensor_dict, window_size=60, stride=10):\n",
    "        self.samples = []\n",
    "        self.window_size = window_size\n",
    "\n",
    "        for lift_name, lift_data in lift_tensor_dict.items():\n",
    "            # Get keys that are NOT landmarks\n",
    "            print(lift_name, lift_data)\n",
    "            angle_keys = [k for k in lift_data if \"landmark\" not in k.name]\n",
    "            if len(angle_keys) != 8:\n",
    "                print(f\"Skipping {lift_name} — expected 8 joints, got {len(angle_keys)}\")\n",
    "                continue\n",
    "\n",
    "            # Sort keys for consistency\n",
    "            angle_keys.sort()\n",
    "\n",
    "            # Stack each joint angle to form [num_frames, 8]\n",
    "            joint_matrix = np.stack([lift_data[k] for k in angle_keys], axis=1)\n",
    "\n",
    "            # Create sliding windows\n",
    "            num_frames = joint_matrix.shape[0]\n",
    "            for i in range(0, num_frames - window_size + 1, stride):\n",
    "                window = joint_matrix[i:i+window_size]\n",
    "                self.samples.append(torch.tensor(window, dtype=torch.float32))\n",
    "\n",
    "    def __len__(self):\n",
    "        return len(self.samples)\n",
    "\n",
    "    def __getitem__(self, idx):\n",
    "        return self.samples[idx]\n"
   ],
   "id": "427f2c47b979d140",
   "outputs": [],
   "execution_count": 27
  },
  {
   "metadata": {
    "ExecuteTime": {
     "end_time": "2025-07-10T15:24:52.538850Z",
     "start_time": "2025-07-10T15:24:52.533798Z"
    }
   },
   "cell_type": "code",
   "source": "BENCH_TENSORS['bench 2 good lift data'].keys()",
   "id": "f4ad544be1e1cdc7",
   "outputs": [
    {
     "data": {
      "text/plain": [
       "dict_keys(['bench 2 good landmark 0', 'bench 2 good landmark 1', 'bench 2 good landmark 2', 'bench 2 good landmark 3', 'bench 2 good landmark 4', 'bench 2 good landmark 5', 'bench 2 good landmark 6', 'bench 2 good landmark 7', 'bench 2 good landmark 8', 'bench 2 good landmark 9', 'bench 2 good landmark 10', 'bench 2 good landmark 11', 'bench 2 good landmark 12', 'bench 2 good landmark 13', 'bench 2 good landmark 14', 'bench 2 good landmark 15', 'bench 2 good landmark 16', 'bench 2 good landmark 17', 'bench 2 good landmark 18', 'bench 2 good landmark 19', 'bench 2 good landmark 20', 'bench 2 good landmark 21', 'bench 2 good landmark 22', 'bench 2 good landmark 23', 'bench 2 good landmark 24', 'bench 2 good landmark 25', 'bench 2 good landmark 26', 'bench 2 good landmark 27', 'bench 2 good landmark 28', 'bench 2 good landmark 29', 'bench 2 good landmark 30', 'bench 2 good landmark 31', 'bench 2 good landmark 32', 'bench 2 good left elbow', 'bench 2 good right elbow', 'bench 2 good left knee', 'bench 2 good right knee', 'bench 2 good right hip', 'bench 2 good left hip', 'bench 2 good left shoulder', 'bench 2 good right shoulder'])"
      ]
     },
     "execution_count": 23,
     "metadata": {},
     "output_type": "execute_result"
    }
   ],
   "execution_count": 23
  },
  {
   "metadata": {
    "ExecuteTime": {
     "end_time": "2025-07-10T15:25:29.386118Z",
     "start_time": "2025-07-10T15:25:29.338021Z"
    }
   },
   "cell_type": "code",
   "source": [
    "dataset = DeadliftDataset(BENCH_TENSORS['bench 2 good lift data'])\n",
    "print(len(dataset))  # Number of sliding windows\n",
    "print(dataset[0].shape)  # torch.Size([60, 8])\n"
   ],
   "id": "728d7b08b60ed0e",
   "outputs": [
    {
     "name": "stdout",
     "output_type": "stream",
     "text": [
      "bench 2 good landmark 0 tensor([[0.5300, 0.5300, 0.5300, 0.5300, 0.5300, 0.5300, 0.5300, 0.5300, 0.5300,\n",
      "         0.5400, 0.5400, 0.5400, 0.5400, 0.5500, 0.5500, 0.5500, 0.5400, 0.5300,\n",
      "         0.5400, 0.5500, 0.5600, 0.5600, 0.5500, 0.5500, 0.5500, 0.5500, 0.5500,\n",
      "         0.5500, 0.5500, 0.5500, 0.5500, 0.5600, 0.5600, 0.5600, 0.5600, 0.5600],\n",
      "        [0.4200, 0.4200, 0.4200, 0.4200, 0.4200, 0.4200, 0.4200, 0.4200, 0.4200,\n",
      "         0.4300, 0.4400, 0.4400, 0.4600, 0.4700, 0.4600, 0.4600, 0.4600, 0.4600,\n",
      "         0.4400, 0.4500, 0.4600, 0.4600, 0.4500, 0.4500, 0.4500, 0.4600, 0.4600,\n",
      "         0.4600, 0.4700, 0.4700, 0.4800, 0.4900, 0.4900, 0.4900, 0.5000, 0.5000],\n",
      "        [0.3600, 0.3600, 0.3200, 0.3100, 0.2700, 0.3100, 0.2600, 0.2600, 0.2500,\n",
      "         0.2700, 0.2800, 0.2800, 0.3000, 0.2900, 0.2600, 0.2600, 0.2700, 0.2400,\n",
      "         0.3100, 0.3200, 0.3400, 0.3000, 0.2800, 0.2500, 0.2400, 0.1900, 0.2000,\n",
      "         0.2300, 0.2200, 0.2200, 0.4500, 0.3500, 0.2500, 0.2800, 0.2900, 0.2900]],\n",
      "       dtype=torch.float64)\n"
     ]
    },
    {
     "ename": "TypeError",
     "evalue": "argument of type 'NoneType' is not iterable",
     "output_type": "error",
     "traceback": [
      "\u001B[31m---------------------------------------------------------------------------\u001B[39m",
      "\u001B[31mTypeError\u001B[39m                                 Traceback (most recent call last)",
      "\u001B[36mCell\u001B[39m\u001B[36m \u001B[39m\u001B[32mIn[28]\u001B[39m\u001B[32m, line 1\u001B[39m\n\u001B[32m----> \u001B[39m\u001B[32m1\u001B[39m dataset = \u001B[43mDeadliftDataset\u001B[49m\u001B[43m(\u001B[49m\u001B[43mBENCH_TENSORS\u001B[49m\u001B[43m[\u001B[49m\u001B[33;43m'\u001B[39;49m\u001B[33;43mbench 2 good lift data\u001B[39;49m\u001B[33;43m'\u001B[39;49m\u001B[43m]\u001B[49m\u001B[43m)\u001B[49m\n\u001B[32m      2\u001B[39m \u001B[38;5;28mprint\u001B[39m(\u001B[38;5;28mlen\u001B[39m(dataset))  \u001B[38;5;66;03m# Number of sliding windows\u001B[39;00m\n\u001B[32m      3\u001B[39m \u001B[38;5;28mprint\u001B[39m(dataset[\u001B[32m0\u001B[39m].shape)  \u001B[38;5;66;03m# torch.Size([60, 8])\u001B[39;00m\n",
      "\u001B[36mCell\u001B[39m\u001B[36m \u001B[39m\u001B[32mIn[27]\u001B[39m\u001B[32m, line 12\u001B[39m, in \u001B[36mDeadliftDataset.__init__\u001B[39m\u001B[34m(self, lift_tensor_dict, window_size, stride)\u001B[39m\n\u001B[32m      9\u001B[39m \u001B[38;5;28;01mfor\u001B[39;00m lift_name, lift_data \u001B[38;5;129;01min\u001B[39;00m lift_tensor_dict.items():\n\u001B[32m     10\u001B[39m     \u001B[38;5;66;03m# Get keys that are NOT landmarks\u001B[39;00m\n\u001B[32m     11\u001B[39m     \u001B[38;5;28mprint\u001B[39m(lift_name, lift_data)\n\u001B[32m---> \u001B[39m\u001B[32m12\u001B[39m     angle_keys = \u001B[43m[\u001B[49m\u001B[43mk\u001B[49m\u001B[43m \u001B[49m\u001B[38;5;28;43;01mfor\u001B[39;49;00m\u001B[43m \u001B[49m\u001B[43mk\u001B[49m\u001B[43m \u001B[49m\u001B[38;5;129;43;01min\u001B[39;49;00m\u001B[43m \u001B[49m\u001B[43mlift_data\u001B[49m\u001B[43m \u001B[49m\u001B[38;5;28;43;01mif\u001B[39;49;00m\u001B[43m \u001B[49m\u001B[33;43m\"\u001B[39;49m\u001B[33;43mlandmark\u001B[39;49m\u001B[33;43m\"\u001B[39;49m\u001B[43m \u001B[49m\u001B[38;5;129;43;01mnot\u001B[39;49;00m\u001B[43m \u001B[49m\u001B[38;5;129;43;01min\u001B[39;49;00m\u001B[43m \u001B[49m\u001B[43mk\u001B[49m\u001B[43m.\u001B[49m\u001B[43mname\u001B[49m\u001B[43m]\u001B[49m\n\u001B[32m     13\u001B[39m     \u001B[38;5;28;01mif\u001B[39;00m \u001B[38;5;28mlen\u001B[39m(angle_keys) != \u001B[32m8\u001B[39m:\n\u001B[32m     14\u001B[39m         \u001B[38;5;28mprint\u001B[39m(\u001B[33mf\u001B[39m\u001B[33m\"\u001B[39m\u001B[33mSkipping \u001B[39m\u001B[38;5;132;01m{\u001B[39;00mlift_name\u001B[38;5;132;01m}\u001B[39;00m\u001B[33m — expected 8 joints, got \u001B[39m\u001B[38;5;132;01m{\u001B[39;00m\u001B[38;5;28mlen\u001B[39m(angle_keys)\u001B[38;5;132;01m}\u001B[39;00m\u001B[33m\"\u001B[39m)\n",
      "\u001B[36mCell\u001B[39m\u001B[36m \u001B[39m\u001B[32mIn[27]\u001B[39m\u001B[32m, line 12\u001B[39m, in \u001B[36m<listcomp>\u001B[39m\u001B[34m(.0)\u001B[39m\n\u001B[32m      9\u001B[39m \u001B[38;5;28;01mfor\u001B[39;00m lift_name, lift_data \u001B[38;5;129;01min\u001B[39;00m lift_tensor_dict.items():\n\u001B[32m     10\u001B[39m     \u001B[38;5;66;03m# Get keys that are NOT landmarks\u001B[39;00m\n\u001B[32m     11\u001B[39m     \u001B[38;5;28mprint\u001B[39m(lift_name, lift_data)\n\u001B[32m---> \u001B[39m\u001B[32m12\u001B[39m     angle_keys = [k \u001B[38;5;28;01mfor\u001B[39;00m k \u001B[38;5;129;01min\u001B[39;00m lift_data \u001B[38;5;28;01mif\u001B[39;00m \u001B[33;43m\"\u001B[39;49m\u001B[33;43mlandmark\u001B[39;49m\u001B[33;43m\"\u001B[39;49m\u001B[43m \u001B[49m\u001B[38;5;129;43;01mnot\u001B[39;49;00m\u001B[43m \u001B[49m\u001B[38;5;129;43;01min\u001B[39;49;00m\u001B[43m \u001B[49m\u001B[43mk\u001B[49m\u001B[43m.\u001B[49m\u001B[43mname\u001B[49m]\n\u001B[32m     13\u001B[39m     \u001B[38;5;28;01mif\u001B[39;00m \u001B[38;5;28mlen\u001B[39m(angle_keys) != \u001B[32m8\u001B[39m:\n\u001B[32m     14\u001B[39m         \u001B[38;5;28mprint\u001B[39m(\u001B[33mf\u001B[39m\u001B[33m\"\u001B[39m\u001B[33mSkipping \u001B[39m\u001B[38;5;132;01m{\u001B[39;00mlift_name\u001B[38;5;132;01m}\u001B[39;00m\u001B[33m — expected 8 joints, got \u001B[39m\u001B[38;5;132;01m{\u001B[39;00m\u001B[38;5;28mlen\u001B[39m(angle_keys)\u001B[38;5;132;01m}\u001B[39;00m\u001B[33m\"\u001B[39m)\n",
      "\u001B[31mTypeError\u001B[39m: argument of type 'NoneType' is not iterable"
     ]
    }
   ],
   "execution_count": 28
  }
 ],
 "metadata": {
  "kernelspec": {
   "display_name": "Python 3",
   "language": "python",
   "name": "python3"
  },
  "language_info": {
   "codemirror_mode": {
    "name": "ipython",
    "version": 2
   },
   "file_extension": ".py",
   "mimetype": "text/x-python",
   "name": "python",
   "nbconvert_exporter": "python",
   "pygments_lexer": "ipython2",
   "version": "2.7.6"
  }
 },
 "nbformat": 4,
 "nbformat_minor": 5
}
