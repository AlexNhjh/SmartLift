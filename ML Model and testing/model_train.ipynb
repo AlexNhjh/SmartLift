{
 "cells": [
  {
   "cell_type": "code",
   "id": "initial_id",
   "metadata": {
    "collapsed": true,
    "ExecuteTime": {
     "end_time": "2025-07-07T15:41:59.653876Z",
     "start_time": "2025-07-07T15:41:59.582822Z"
    }
   },
   "source": [
    "import os\n",
    "import torch\n",
    "import numpy as np\n",
    "\n",
    "LIFT_TENSORS = {}\n",
    "\n",
    "# Setup paths\n",
    "script_dir = os.path.dirname(os.path.abspath(\"model_train.ipynb\"))\n",
    "data_dir = os.path.normpath(os.path.join(script_dir, '..', 'training data'))\n",
    "\n",
    "# Step 1: Get all subfolder names in data_dir\n",
    "subfolders = []\n",
    "for f in os.listdir(data_dir):\n",
    "    if os.path.isdir(os.path.join(data_dir, f)):\n",
    "        subfolders.append(f)\n",
    "\n",
    "\n",
    "for subfolder in subfolders:\n",
    "    subfolder_path = os.path.join(data_dir, subfolder)\n",
    "    files = []\n",
    "    for f in os.listdir(subfolder_path):\n",
    "        if os.path.isfile(os.path.join(subfolder_path, f)):\n",
    "            files.append(f)\n",
    "\n",
    "    print(f\"{subfolder}\")\n",
    "    for file in files:\n",
    "        data = np.load(os.path.join(subfolder_path, file))\n",
    "\n",
    "        tensor_dict = {key: torch.tensor(data[key]) for key in data.files}\n",
    "        LIFT_TENSORS[file.split('.')[0]] = tensor_dict\n",
    "        print(f\" {file.split('.')[0]} loaded\")"
   ],
   "outputs": [
    {
     "name": "stdout",
     "output_type": "stream",
     "text": [
      "bench files\n",
      " bench 2 good lift data loaded\n",
      " bench 3 good lift data loaded\n",
      " bench 4 good lift data loaded\n",
      " bench 5 good lift data loaded\n",
      "deadlift files\n",
      " deadlift 1 good lift data loaded\n",
      " deadlift 2 good_rotate_15 lift data loaded\n",
      " deadlift 3 bad lift data loaded\n",
      " deadlift 4 bad lift data loaded\n",
      "squat files\n",
      " squat 1 good lift data loaded\n"
     ]
    }
   ],
   "execution_count": 23
  },
  {
   "metadata": {
    "ExecuteTime": {
     "end_time": "2025-07-07T15:42:01.397534Z",
     "start_time": "2025-07-07T15:42:01.393464Z"
    }
   },
   "cell_type": "code",
   "source": "print(LIFT_TENSORS.keys())",
   "id": "133c40529e1f03e9",
   "outputs": [
    {
     "name": "stdout",
     "output_type": "stream",
     "text": [
      "dict_keys(['bench 2 good lift data', 'bench 3 good lift data', 'bench 4 good lift data', 'bench 5 good lift data', 'deadlift 1 good lift data', 'deadlift 2 good_rotate_15 lift data', 'deadlift 3 bad lift data', 'deadlift 4 bad lift data', 'squat 1 good lift data'])\n"
     ]
    }
   ],
   "execution_count": 24
  }
 ],
 "metadata": {
  "kernelspec": {
   "display_name": "Python 3",
   "language": "python",
   "name": "python3"
  },
  "language_info": {
   "codemirror_mode": {
    "name": "ipython",
    "version": 2
   },
   "file_extension": ".py",
   "mimetype": "text/x-python",
   "name": "python",
   "nbconvert_exporter": "python",
   "pygments_lexer": "ipython2",
   "version": "2.7.6"
  }
 },
 "nbformat": 4,
 "nbformat_minor": 5
}
