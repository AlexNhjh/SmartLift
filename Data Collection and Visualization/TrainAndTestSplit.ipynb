{
 "cells": [
  {
   "metadata": {},
   "cell_type": "markdown",
   "source": "### Splits the videos in the 'Videos' folder into training and testing videos",
   "id": "59b6af42bfdc868b"
  },
  {
   "metadata": {
    "ExecuteTime": {
     "end_time": "2025-07-07T14:07:28.997014Z",
     "start_time": "2025-07-07T14:07:28.993856Z"
    }
   },
   "cell_type": "code",
   "source": [
    "import os\n",
    "import shutil\n",
    "import random\n",
    "\n",
    "from matplotlib.cbook import file_requires_unicode"
   ],
   "id": "initial_id",
   "outputs": [],
   "execution_count": 5
  },
  {
   "metadata": {
    "ExecuteTime": {
     "end_time": "2025-07-07T14:07:29.022138Z",
     "start_time": "2025-07-07T14:07:29.009920Z"
    }
   },
   "cell_type": "code",
   "source": [
    "#random.seed(42)\n",
    "\n",
    "# Script Directory is where the split data will be located.\n",
    "# Videos dir is where all of the training and test videos are\n",
    "# before they are split\n",
    "script_dir = os.path.dirname(os.path.abspath(\"TrainAndTestSplit.py\"))\n",
    "videos_dir = os.path.join(script_dir, '..', 'videos')\n",
    "videos_dir = os.path.normpath(videos_dir)"
   ],
   "id": "ddcd274031d18b7d",
   "outputs": [],
   "execution_count": 6
  },
  {
   "metadata": {
    "ExecuteTime": {
     "end_time": "2025-07-07T14:07:29.037273Z",
     "start_time": "2025-07-07T14:07:29.033019Z"
    }
   },
   "cell_type": "code",
   "source": [
    "train_ratio = 0.8\n",
    "\n",
    "lift_types = {\n",
    "    'squat' : 'squat files',\n",
    "    'bench' : 'bench files',\n",
    "    'deadlift' : 'deadlift files'\n",
    "}\n",
    "# Get k,val pairs from lift types\n",
    "#for lift_name, lift_folder in lift_types.items():\n",
    "\n",
    "train_destination = os.path.abspath(os.path.join(script_dir,'..','training videos'))\n",
    "test_destination = os.path.abspath(os.path.join(script_dir,'..','testing videos'))\n",
    "\n",
    "#os.makedirs(train_destination, exist_ok=True)\n",
    "#os.makedirs(test_destination, exist_ok=True)\n",
    "video_files = []\n",
    "for file in os.listdir(videos_dir):\n",
    "    if file.endswith(('.mp4', '.mov', '.avi', '.mkv')):\n",
    "        video_files.append(file)\n",
    "\n",
    "# Make sure video filepaths are out of order\n",
    "random.shuffle(video_files)\n",
    "\n",
    "#Index to split data into 80/20 train and test\n",
    "split_index = int(train_ratio * len(video_files))\n",
    "train_files = video_files[:split_index]\n",
    "test_files = video_files[split_index:]"
   ],
   "id": "dc02c1510c1a427",
   "outputs": [],
   "execution_count": 7
  },
  {
   "metadata": {
    "ExecuteTime": {
     "end_time": "2025-07-07T14:07:29.124497Z",
     "start_time": "2025-07-07T14:07:29.046368Z"
    }
   },
   "cell_type": "code",
   "source": [
    "for file in train_files:\n",
    "    #print((os.path.join(videos_dir, file), os.path.join(train_destination,file)))\n",
    "    shutil.copy2(os.path.join(videos_dir, file), os.path.join(train_destination,file))\n",
    "for file in test_files:\n",
    "    #print((os.path.join(videos_dir, file), os.path.join(test_destination,file)))\n",
    "    shutil.copy2(os.path.join(videos_dir, file), os.path.join(test_destination,file))"
   ],
   "id": "4cdcd7dc1959e05b",
   "outputs": [],
   "execution_count": 8
  }
 ],
 "metadata": {
  "kernelspec": {
   "display_name": "Python 3",
   "language": "python",
   "name": "python3"
  },
  "language_info": {
   "codemirror_mode": {
    "name": "ipython",
    "version": 2
   },
   "file_extension": ".py",
   "mimetype": "text/x-python",
   "name": "python",
   "nbconvert_exporter": "python",
   "pygments_lexer": "ipython2",
   "version": "2.7.6"
  }
 },
 "nbformat": 4,
 "nbformat_minor": 5
}
